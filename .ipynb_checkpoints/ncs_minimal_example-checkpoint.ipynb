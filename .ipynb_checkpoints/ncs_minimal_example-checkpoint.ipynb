{
 "cells": [
  {
   "cell_type": "markdown",
   "metadata": {},
   "source": [
    "### Basics: EdgeComputing with tensorflow, Intel NCS and the Traumschreiber"
   ]
  },
  {
   "cell_type": "code",
   "execution_count": 1,
   "metadata": {},
   "outputs": [],
   "source": [
    "import tensorflow as tf\n",
    "import numpy as np\n",
    "import matplotlib.pyplot as plt\n",
    "\n",
    "%matplotlib inline\n",
    "\n",
    "## constants are for demo purposes\n",
    "N_CHANNELS = 1\n",
    "N_WINDOWWIDTH = 1\n",
    "\n",
    "T_TIMESTEPS = 1000"
   ]
  },
  {
   "cell_type": "code",
   "execution_count": 3,
   "metadata": {},
   "outputs": [
    {
     "data": {
      "text/plain": [
       "[<matplotlib.lines.Line2D at 0x7f46eb95b588>]"
      ]
     },
     "execution_count": 3,
     "metadata": {},
     "output_type": "execute_result"
    },
    {
     "data": {
      "image/png": "[encoded data removed]",
      "text/plain": [
       "<matplotlib.figure.Figure at 0x7f46eda7fe10>"
      ]
     },
     "metadata": {},
     "output_type": "display_data"
    }
   ],
   "source": [
    "def random_data():\n",
    "    input_ = 3 * np.random.rand(N_CHANNELS, N_WINDOWWIDTH, T_TIMESTEPS)\n",
    "    output = - input_**3 + input_**2 + input_\n",
    "    \n",
    "    return input_, output\n",
    "\n",
    "inp, out = random_data()\n",
    "input_ = np.reshape(inp, [T_TIMESTEPS])\n",
    "output = np.reshape(out, [T_TIMESTEPS])\n",
    "\n",
    "p = plt.figure()\n",
    "ax = p.add_subplot(1,1,1)\n",
    "ax.plot(input_[1:50], color='red')\n",
    "ax.plot(output[1:50], color='blue')"
   ]
  },
  {
   "cell_type": "code",
   "execution_count": null,
   "metadata": {},
   "outputs": [],
   "source": [
    "class Model(object):\n",
    "    \n",
    "    def __init__(config, input_size, output_size, n_neurons, dtype):\n",
    "        self._input_size = input_size\n",
    "        self._output_size = output_size\n",
    "        self._n_neurons = n_neurons\n",
    "        self._learning_rate = tf.get_variable(\"lr\", tf.constant_initializer(config.lr))\n",
    "        self._dtype = dtype\n",
    "        \n",
    "    def _build_graph(self, config):\n",
    "        \n",
    "        # Inputs and targets\n",
    "        self.input_ = tf.placeholder(dtype=self.dtype, shape=[None, self.input_size, 1, 1])\n",
    "        self.input_ = tf.reshape(self.input_, shape=[None, self.input_size])\n",
    "        self.target = tf.placeholder(dtype=self.dytpe, shape=[None, self.output_size])\n",
    "        \n",
    "        # a fully connected neural network layer\n",
    "        b_inp = tf.get_variable(\"bias_layer1\", [self.input_size])\n",
    "        W_inp = tf.get_variable(\"weights_layer1\", [self.input_size, self.n_neurons], dtype=self.dtype)\n",
    "        first_layer_linear = tf.add(tf.matmul(self.input_, W_inp), b_inp)\n",
    "        first_layer = tf.nn.tanh(first_layer_linear)\n",
    "        \n",
    "        # perceptron output, final layer\n",
    "        b_out = tf.get_variable(\"bias_layer2\", [self.n_neurons])\n",
    "        W_out = tf.get_variable(\"weights_layer2\", [self.n_neurons, self.output_size])\n",
    "        second_layer_linear = tf.add(tf.matmul(first_layer, W_out), b_out)\n",
    "        output = tf.nn.tanh(second_layer_linear)\n",
    "        \n",
    "        ### The \"real\" modelling stops now, but we'll have to add all operations needed to actually train\n",
    "        ### the network!\n",
    "        \n",
    "        # loss, gradient, optimizer\n",
    "        loss = tf.losses.mean_squared_error(self.target, self.output)\n",
    "        \n",
    "        tvars = tf.trainable_variables()\n",
    "        grads = tf.gradients(loss, tvars)\n",
    "        optimizer = tf.train.GradientDescentOptimizer(self.learning_rate)\n",
    "        self.train_op = optimizer.apply_gradients(zip(grads, tvars), \n",
    "                            global_step=tf.contrib.framework.get_or_create_global_step())      \n",
    "    \n",
    "    @property\n",
    "    def n_neurons(self):\n",
    "        return self._n_neurons\n",
    "    \n",
    "    @property\n",
    "    def learning_rate(self):\n",
    "        return self._learning_rate\n",
    "    \n",
    "    @property\n",
    "    def input_size(self):\n",
    "        return self._input_size\n",
    "    \n",
    "    @property \n",
    "    def output_size(self):\n",
    "        return self._output_size\n",
    "    \n",
    "    @property\n",
    "    def dtype(self):\n",
    "        return self._dtype\n",
    "        \n"
   ]
  },
  {
   "cell_type": "code",
   "execution_count": null,
   "metadata": {},
   "outputs": [],
   "source": [
    "config "
   ]
  }
 ],
 "metadata": {
  "kernelspec": {
   "display_name": "Python 3",
   "language": "python",
   "name": "python3"
  },
  "language_info": {
   "codemirror_mode": {
    "name": "ipython",
    "version": 3
   },
   "file_extension": ".py",
   "mimetype": "text/x-python",
   "name": "python",
   "nbconvert_exporter": "python",
   "pygments_lexer": "ipython3",
   "version": "3.5.2"
  }
 },
 "nbformat": 4,
 "nbformat_minor": 2
}
